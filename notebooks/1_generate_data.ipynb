{
 "cells": [
  {
   "cell_type": "code",
   "execution_count": 3,
   "id": "f33ea45d-cdcd-4c4b-a24c-c9045750c197",
   "metadata": {},
   "outputs": [
    {
     "name": "stdout",
     "output_type": "stream",
     "text": [
      "Data generated and saved to 'data/sales_data.csv'\n"
     ]
    }
   ],
   "source": [
    "# Generate and save sales data\n",
    "\n",
    "import pandas as pd\n",
    "import numpy as np\n",
    "\n",
    "# Set random seed for reproducibility\n",
    "np.random.seed(42)\n",
    "\n",
    "# Create random data\n",
    "dates = pd.date_range(start=\"2024-01-01\", periods=100)\n",
    "sales_reps = ['Alice', 'Bob', 'Charlie', 'Diana']\n",
    "products = ['Laptop', 'Tablet', 'Smartphone', 'Headphones']\n",
    "\n",
    "data = {\n",
    "    'Date': np.random.choice(dates, size=200),\n",
    "    'Sales_Rep': np.random.choice(sales_reps, size=200),\n",
    "    'Product': np.random.choice(products, size=200),\n",
    "    'Items_Sold': np.random.randint(1, 10, size=200),\n",
    "    'Sales_Amount': np.round(np.random.uniform(100, 1000, size=200), 2)\n",
    "}\n",
    "\n",
    "df = pd.DataFrame(data)\n",
    "df['Profit'] = np.round(df['Sales_Amount'] * np.random.uniform(0.1, 0.3), 2)\n",
    "\n",
    "# Save to CSV\n",
    "df.to_csv(\"../data/sales_data.csv\", index=False)\n",
    "\n",
    "print(\"Data generated and saved to 'data/sales_data.csv'\")\n"
   ]
  },
  {
   "cell_type": "code",
   "execution_count": null,
   "id": "6041298e-71e4-4f22-9a64-2f5c45668313",
   "metadata": {},
   "outputs": [],
   "source": []
  }
 ],
 "metadata": {
  "kernelspec": {
   "display_name": "Python 3 (ipykernel)",
   "language": "python",
   "name": "python3"
  },
  "language_info": {
   "codemirror_mode": {
    "name": "ipython",
    "version": 3
   },
   "file_extension": ".py",
   "mimetype": "text/x-python",
   "name": "python",
   "nbconvert_exporter": "python",
   "pygments_lexer": "ipython3",
   "version": "3.13.2"
  }
 },
 "nbformat": 4,
 "nbformat_minor": 5
}
