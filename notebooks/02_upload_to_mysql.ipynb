{
 "cells": [
  {
   "cell_type": "code",
   "execution_count": 2,
   "id": "24621a97-056e-41df-a529-1c678baebb4f",
   "metadata": {},
   "outputs": [
    {
     "name": "stdout",
     "output_type": "stream",
     "text": [
      "Data uploaded to MySQL successfully.\n"
     ]
    }
   ],
   "source": [
    "# Upload data to MySQL\n",
    "\n",
    "import pandas as pd\n",
    "import mysql.connector\n",
    "\n",
    "# Load data\n",
    "df = pd.read_csv(\"../data/sales_data.csv\")\n",
    "\n",
    "# Ensure Date is in proper format\n",
    "df['Date'] = pd.to_datetime(df['Date']).dt.date\n",
    "\n",
    "# Connect to MySQL\n",
    "conn = mysql.connector.connect(\n",
    "    host=\"localhost\",\n",
    "    user=\"root\",\n",
    "    password=\"Codex@1234?\",\n",
    "    database=\"sales_analysis\"\n",
    ")\n",
    "\n",
    "cursor = conn.cursor()\n",
    "\n",
    "# Insert each row\n",
    "for _, row in df.iterrows():\n",
    "    cursor.execute(\"\"\"\n",
    "        INSERT INTO sales_data (Date, Sales_Rep, Product, Items_Sold, Sales_Amount, Profit)\n",
    "        VALUES (%s, %s, %s, %s, %s, %s)\n",
    "    \"\"\", tuple(row.values))\n",
    "\n",
    "# Commit and close\n",
    "conn.commit()\n",
    "cursor.close()\n",
    "conn.close()\n",
    "\n",
    "print(\"Data uploaded to MySQL successfully.\")\n"
   ]
  },
  {
   "cell_type": "code",
   "execution_count": null,
   "id": "cbbf6ca5-0d6e-4e01-a22c-d26204524327",
   "metadata": {},
   "outputs": [],
   "source": []
  }
 ],
 "metadata": {
  "kernelspec": {
   "display_name": "Python 3 (ipykernel)",
   "language": "python",
   "name": "python3"
  },
  "language_info": {
   "codemirror_mode": {
    "name": "ipython",
    "version": 3
   },
   "file_extension": ".py",
   "mimetype": "text/x-python",
   "name": "python",
   "nbconvert_exporter": "python",
   "pygments_lexer": "ipython3",
   "version": "3.13.2"
  }
 },
 "nbformat": 4,
 "nbformat_minor": 5
}
